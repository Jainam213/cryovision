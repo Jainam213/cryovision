{
 "cells": [
  {
   "cell_type": "code",
   "execution_count": 362,
   "metadata": {},
   "outputs": [],
   "source": [
    "from PIL import Image\n",
    "import numpy as np\n",
    "import matplotlib.pyplot as plt\n",
    "import numpy as np\n",
    "from skimage import filters\n",
    "from sentinelsat import SentinelAPI, read_geojson, geojson_to_wkt, make_path_filter\n",
    "import geopandas as gpd\n",
    "import rasterio as rio\n",
    "import rasterio.mask\n",
    "from rasterio import plot\n",
    "import folium"
   ]
  },
  {
   "cell_type": "code",
   "execution_count": 137,
   "metadata": {},
   "outputs": [],
   "source": [
    "# Init Sentinel API\n",
    "username = 'cryovision' \n",
    "password = 'baw.YFV8rfa8nva9mfg' \n",
    "api = SentinelAPI(username, password, 'https://scihub.copernicus.eu/dhus')"
   ]
  },
  {
   "cell_type": "code",
   "execution_count": 138,
   "metadata": {},
   "outputs": [],
   "source": [
    "SHAPEFILE = 'pingo_distribution_siberia_ggrosse_bjones/pingo_distribution_siberia_ggrosse_bjones.shp'"
   ]
  },
  {
   "cell_type": "code",
   "execution_count": 224,
   "metadata": {},
   "outputs": [],
   "source": [
    "pingo = gpd.read_file(SHAPEFILE)"
   ]
  },
  {
   "cell_type": "code",
   "execution_count": 551,
   "metadata": {},
   "outputs": [],
   "source": [
    "pingo = gpd.read_file(SHAPEFILE)\n",
    "pingo = pingo.to_crs('epsg:4326')"
   ]
  },
  {
   "cell_type": "code",
   "execution_count": 569,
   "metadata": {},
   "outputs": [
    {
     "data": {
      "text/plain": [
       "'POINT(-174.3428 65.5855)'"
      ]
     },
     "execution_count": 569,
     "metadata": {},
     "output_type": "execute_result"
    }
   ],
   "source": [
    "geojson_to_wkt(read_geojson('pingo.geojson')['features'][0])"
   ]
  },
  {
   "cell_type": "code",
   "execution_count": 572,
   "metadata": {},
   "outputs": [],
   "source": [
    "# Import Shapefile\n",
    "\n",
    "pingo_number = 1\n",
    "pingo = gpd.read_file(SHAPEFILE)\n",
    "pingo = pingo.to_crs('epsg:4326')\n",
    "pingo.to_file('pingo.geojson', driver='GeoJSON')\n",
    "geojson = read_geojson('pingo.geojson')['features'][pingo_number]\n",
    "footprint = geojson_to_wkt(geojson)"
   ]
  },
  {
   "cell_type": "code",
   "execution_count": 575,
   "metadata": {},
   "outputs": [],
   "source": [
    "# Get Images from api\n",
    "\n",
    "images = api.query(footprint,\n",
    "                        platformname = 'Sentinel-2',\n",
    "                     processinglevel = 'Level-2A',\n",
    "                     cloudcoverpercentage = (0,10),\n",
    "                     limit=100)\n",
    "dataframe = api.to_geodataframe(images)\n",
    "dataframe_sorted = dataframe.sort_values(['ingestiondate','cloudcoverpercentage'], ascending=[False,True])"
   ]
  },
  {
   "cell_type": "code",
   "execution_count": 308,
   "metadata": {},
   "outputs": [
    {
     "name": "stderr",
     "output_type": "stream",
     "text": [
      "Downloading T01WFN_20220324T233649_B02_60m.jp2: 100%|██████████| 862k/862k [00:00<00:00, 1.03MB/s]\n",
      "Downloading T01WFN_20220324T233649_B03_60m.jp2: 100%|██████████| 867k/867k [00:00<00:00, 1.12MB/s]\n",
      "Downloading T01WFN_20220324T233649_B04_60m.jp2: 100%|██████████| 873k/873k [00:00<00:00, 1.07MB/s]\n",
      "                                                                 \r"
     ]
    }
   ],
   "source": [
    "# # Download Image Data set using Id\n",
    "path_filter = make_path_filter(\"*_B0[234]_60m.jp2\")\n",
    "download_data = api.download(dataframe_sorted.index[0],nodefilter=path_filter)"
   ]
  },
  {
   "cell_type": "code",
   "execution_count": 365,
   "metadata": {},
   "outputs": [],
   "source": [
    "main_path = download_data['node_path'][2:]\n",
    "image_paths = list(download_data['nodes'].keys())[1:]\n",
    "b2 = rio.open(main_path+list(download_data['nodes'].keys())[1:][0][1:])\n",
    "b3 = rio.open(main_path+list(download_data['nodes'].keys())[2:][0][1:])\n",
    "b4 = rio.open(main_path+list(download_data['nodes'].keys())[3:][0][1:])"
   ]
  },
  {
   "cell_type": "code",
   "execution_count": 522,
   "metadata": {},
   "outputs": [],
   "source": [
    "pingo_proj = pingo.to_crs(b4.crs.data.get('init'))\n",
    "with rio.open('RGB.tiff','w',driver='GTiff', width=b4.width, height=b4.height, \n",
    "              count=3,crs=b4.crs,transform=b4.transform, dtype=b4.dtypes[0]) as rgb:\n",
    "    rgb.write(b2.read(1),3) \n",
    "    rgb.write(b3.read(1),2) \n",
    "    rgb.write(b4.read(1),1) \n",
    "    rgb.close()\n",
    "\n"
   ]
  },
  {
   "cell_type": "code",
   "execution_count": 523,
   "metadata": {},
   "outputs": [],
   "source": [
    "with rio.open(\"RGB.tiff\") as src:\n",
    "    out_image, out_transform = rasterio.mask.mask(src, pingo_proj.geometry.buffer(40000.0),crop=True)\n",
    "    out_meta = src.meta.copy()\n",
    "    out_meta.update({\"driver\": \"GTiff\",\n",
    "                 \"height\": out_image.shape[1],\n",
    "                 \"width\": out_image.shape[2],\n",
    "                 \"transform\": out_transform})\n",
    "    \n",
    "with rasterio.open(\"RGB_masked.tiff\", \"w\", **out_meta) as dest:\n",
    "    dest.write(out_image)"
   ]
  },
  {
   "cell_type": "code",
   "execution_count": 508,
   "metadata": {},
   "outputs": [],
   "source": [
    "src=rasterio.open('RGB.tif')\n",
    "data = src.read([1,2,3])\n",
    "norm = (data * (255 / np.max(data))).astype(np.uint8)"
   ]
  }
 ],
 "metadata": {
  "interpreter": {
   "hash": "c9450414bf23f3dd29b5b05a150ab805ddf54e50a477ec96525535ab209d16c9"
  },
  "kernelspec": {
   "display_name": "Python 3.9.1 ('main')",
   "language": "python",
   "name": "python3"
  },
  "language_info": {
   "codemirror_mode": {
    "name": "ipython",
    "version": 3
   },
   "file_extension": ".py",
   "mimetype": "text/x-python",
   "name": "python",
   "nbconvert_exporter": "python",
   "pygments_lexer": "ipython3",
   "version": "3.9.1"
  },
  "orig_nbformat": 4
 },
 "nbformat": 4,
 "nbformat_minor": 2
}
