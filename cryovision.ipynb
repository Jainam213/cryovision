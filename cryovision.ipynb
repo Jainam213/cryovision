{
 "cells": [
  {
   "cell_type": "code",
   "execution_count": 151,
   "metadata": {},
   "outputs": [],
   "source": [
    "from PIL import Image\n",
    "import numpy as np\n",
    "import matplotlib.pyplot as plt\n",
    "import numpy as np\n",
    "from skimage import filters\n",
    "from sentinelsat import SentinelAPI, read_geojson, geojson_to_wkt, make_path_filter\n",
    "import geopandas as gpd\n",
    "import rasterio as rio\n",
    "import rasterio.mask"
   ]
  },
  {
   "cell_type": "code",
   "execution_count": 137,
   "metadata": {},
   "outputs": [],
   "source": [
    "# Init Sentinel API\n",
    "username = 'cryovision' \n",
    "password = 'baw.YFV8rfa8nva9mfg' \n",
    "api = SentinelAPI(username, password, 'https://scihub.copernicus.eu/dhus')"
   ]
  },
  {
   "cell_type": "code",
   "execution_count": 138,
   "metadata": {},
   "outputs": [],
   "source": [
    "SHAPEFILE = 'pingo_distribution_siberia_ggrosse_bjones/pingo_distribution_siberia_ggrosse_bjones.shp'"
   ]
  },
  {
   "cell_type": "code",
   "execution_count": 139,
   "metadata": {},
   "outputs": [],
   "source": [
    "# Import Shapefile\n",
    "\n",
    "cutoff = 2\n",
    "pingo = gpd.read_file(SHAPEFILE)\n",
    "pingo = pingo.to_crs('epsg:4326')\n",
    "pingo = pingo.iloc[0:cutoff]\n",
    "pingo.to_file('pingo.geojson', driver='GeoJSON')\n",
    "footprint = geojson_to_wkt(read_geojson('pingo.geojson'))"
   ]
  },
  {
   "cell_type": "code",
   "execution_count": 141,
   "metadata": {},
   "outputs": [],
   "source": [
    "# Get Images from api\n",
    "\n",
    "images = api.query(footprint,\n",
    "                        platformname = 'Sentinel-2',\n",
    "                     processinglevel = 'Level-2A',\n",
    "                     cloudcoverpercentage = (0,10),\n",
    "                     limit=10)\n",
    "dataframe = api.to_geodataframe(images)\n",
    "dataframe_sorted = dataframe.sort_values(['cloudcoverpercentage', 'ingestiondate'], ascending=[True, True]).head(5)"
   ]
  },
  {
   "cell_type": "code",
   "execution_count": 176,
   "metadata": {},
   "outputs": [
    {
     "name": "stderr",
     "output_type": "stream",
     "text": [
      "Downloading T01WFP_20220311T232629_B06_60m.jp2: 100%|██████████| 3.74M/3.74M [00:05<00:00, 685kB/s]\n",
      "                                                                  \r"
     ]
    }
   ],
   "source": [
    "# # Download Image Data set using Id\n",
    "path_filter = make_path_filter(\"*_B0[2]_60m.jp2\")\n",
    "download_data = api.download(dataframe_sorted.index[0],nodefilter=path_filter)"
   ]
  },
  {
   "cell_type": "code",
   "execution_count": 177,
   "metadata": {},
   "outputs": [],
   "source": [
    "R10 = 'S2B_MSIL2A_20220311T232629_N0400_R130_T01WFP_20220312T000759.SAFE/GRANULE/L2A_T01WFP_A026182_20220311T232631/IMG_DATA/R60m'\n",
    "b4 = rio.open(R10+'/T01WFP_20220311T232629_B04_60m.jp2')\n",
    "b3 = rio.open(R10+'/T01WFP_20220311T232629_B03_60m.jp2')\n",
    "b2 = rio.open(R10+'/T01WFP_20220311T232629_B02_60m.jp2')"
   ]
  },
  {
   "cell_type": "code",
   "execution_count": null,
   "metadata": {},
   "outputs": [],
   "source": []
  }
 ],
 "metadata": {
  "interpreter": {
   "hash": "c9450414bf23f3dd29b5b05a150ab805ddf54e50a477ec96525535ab209d16c9"
  },
  "kernelspec": {
   "display_name": "Python 3.9.1 ('main')",
   "language": "python",
   "name": "python3"
  },
  "language_info": {
   "codemirror_mode": {
    "name": "ipython",
    "version": 3
   },
   "file_extension": ".py",
   "mimetype": "text/x-python",
   "name": "python",
   "nbconvert_exporter": "python",
   "pygments_lexer": "ipython3",
   "version": "3.9.1"
  },
  "orig_nbformat": 4
 },
 "nbformat": 4,
 "nbformat_minor": 2
}
