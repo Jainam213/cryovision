{
 "cells": [
  {
   "cell_type": "code",
   "execution_count": 19,
   "metadata": {},
   "outputs": [],
   "source": [
    "from sentinelsat import SentinelAPI, read_geojson, geojson_to_wkt, make_path_filter\n",
    "import geopandas as gpd\n",
    "import rasterio as rio\n",
    "from rasterio import plot\n",
    "import rasterio.mask\n",
    "from tqdm import tqdm"
   ]
  },
  {
   "cell_type": "code",
   "execution_count": 20,
   "metadata": {},
   "outputs": [],
   "source": [
    "# Init Sentinel API\n",
    "username = 'cryovision' \n",
    "password = 'baw.YFV8rfa8nva9mfg' \n",
    "api = SentinelAPI(username, password, 'https://scihub.copernicus.eu/dhus')\n",
    "# switch to apihub once active"
   ]
  },
  {
   "cell_type": "code",
   "execution_count": 21,
   "metadata": {},
   "outputs": [],
   "source": [
    "SHAPEFILE = 'pingo_distribution_siberia_ggrosse_bjones/pingo_distribution_siberia_ggrosse_bjones.shp'"
   ]
  },
  {
   "cell_type": "code",
   "execution_count": 25,
   "metadata": {},
   "outputs": [
    {
     "name": "stderr",
     "output_type": "stream",
     "text": [
      "/opt/anaconda3/envs/main/lib/python3.9/site-packages/geopandas/io/file.py:362: FutureWarning: pandas.Int64Index is deprecated and will be removed from pandas in a future version. Use pandas.Index with the appropriate dtype instead.\n",
      "  pd.Int64Index,\n"
     ]
    }
   ],
   "source": [
    "# Import Shapefile\n",
    "pingo = gpd.read_file(SHAPEFILE)\n",
    "pingo = pingo.to_crs('epsg:4326')\n",
    "pingo.to_file('pingo.geojson', driver='GeoJSON')\n"
   ]
  },
  {
   "cell_type": "code",
   "execution_count": 6,
   "metadata": {},
   "outputs": [],
   "source": [
    "pingo_number = 0\n",
    "geojson = read_geojson('pingo.geojson')\n",
    "footprint = geojson_to_wkt(geojson['features'][pingo_number])"
   ]
  },
  {
   "cell_type": "code",
   "execution_count": 7,
   "metadata": {},
   "outputs": [],
   "source": [
    "# Get Images from api\n",
    "\n",
    "images = api.query(footprint, \n",
    "                    # date=(\"20200101\",\"20230101\"),\n",
    "                    platformname = 'Sentinel-2',\n",
    "                    processinglevel = 'Level-2A',\n",
    "                    cloudcoverpercentage = (0,10))\n",
    "dataframe = api.to_geodataframe(images)\n",
    "dataframe_sorted = dataframe.sort_values(['ingestiondate','cloudcoverpercentage'], ascending=[False,True])"
   ]
  },
  {
   "cell_type": "code",
   "execution_count": 8,
   "metadata": {},
   "outputs": [],
   "source": [
    "# # Download Image Data set using Id\n",
    "path_filter = make_path_filter(\"*_B0[234]_60m.jp2\")\n",
    "image_id = dataframe_sorted.index[0]\n",
    "download_data = api.download(image_id,nodefilter=path_filter, directory_path=\"sentinel_data\")"
   ]
  },
  {
   "cell_type": "code",
   "execution_count": 9,
   "metadata": {},
   "outputs": [],
   "source": [
    "main_path = download_data['node_path'][2:]\n",
    "image_paths = list(download_data['nodes'].keys())\n",
    "b2 = rio.open(\n",
    "                os.path.join('sentinel_data', main_path + image_paths[1:][0][1:],)\n",
    "            )\n",
    "b3 = rio.open(\n",
    "                os.path.join('sentinel_data', main_path + image_paths[2:][0][1:],)\n",
    "            )\n",
    "b4 = rio.open(\n",
    "                os.path.join('sentinel_data', main_path + image_paths[3:][0][1:],)\n",
    "            )"
   ]
  },
  {
   "cell_type": "code",
   "execution_count": 14,
   "metadata": {},
   "outputs": [],
   "source": [
    "from rasterio.io import MemoryFile\n",
    "image = MemoryFile().open(driver=\"GTiff\",width=b4.width,\n",
    "                height=b4.height,\n",
    "                count=1,\n",
    "                crs=b4.crs,\n",
    "                transform=b4.transform,\n",
    "                dtype=b4.dtypes[0])\n",
    "\n",
    "greyscale = (b2.read(1) + b3.read(1) + b4.read(1)) / 3\n",
    "image.write(greyscale,1)"
   ]
  },
  {
   "cell_type": "code",
   "execution_count": 167,
   "metadata": {},
   "outputs": [],
   "source": [
    "in_path = f'images/{image_id}/'\n",
    "rgb_filename = 'rgb.tif'\n",
    "rgb_masked_filename = 'rgb_masked.tif'\n",
    "out_path = f'images/{image_id}/tiles/'\n",
    "output_filename = 'tile_{}-{}.tif'"
   ]
  },
  {
   "cell_type": "code",
   "execution_count": 349,
   "metadata": {},
   "outputs": [],
   "source": [
    "with rio.open(os.path.join(in_path, rgb_filename),'w',driver='GTiff', width=b4.width, height=b4.height, \n",
    "              count=3,crs=b4.crs,transform=b4.transform, dtype=b4.dtypes[0]) as rgb:\n",
    "    \n",
    "    rgb.write(b2.read(1),1) \n",
    "    rgb.write(b3.read(1),2) \n",
    "    rgb.write(b4.read(1),3) \n",
    "    rgb.close()\n",
    "\n"
   ]
  },
  {
   "cell_type": "code",
   "execution_count": 168,
   "metadata": {},
   "outputs": [],
   "source": [
    "with rio.open('test.tif','w',driver='GTiff', width=b4.width, height=b4.height, \n",
    "              count=1,crs=b4.crs,transform=b4.transform, dtype=b4.dtypes[0]) as rgb:\n",
    "    greyscale = (b2.read(1) + b3.read(1) + b4.read(1)) / 3\n",
    "    rgb.write(greyscale,1) "
   ]
  },
  {
   "cell_type": "code",
   "execution_count": 169,
   "metadata": {},
   "outputs": [
    {
     "data": {
      "text/plain": [
       "0    POINT (2821763.496 11533640.961)\n",
       "Name: geometry, dtype: geometry"
      ]
     },
     "execution_count": 169,
     "metadata": {},
     "output_type": "execute_result"
    }
   ],
   "source": [
    "pingo_proj = pingo.loc[pingo_number:pingo_number].to_crs(32641)\n",
    "pingo_proj.geometry"
   ]
  },
  {
   "cell_type": "code",
   "execution_count": 162,
   "metadata": {},
   "outputs": [],
   "source": [
    "with rio.open('test.tif') as src:\n",
    "    out_image, out_transform = rasterio.mask.mask(src, pingo_proj.geometry.buffer(20000),crop=True)\n",
    "    out_meta = src.meta.copy()\n",
    "    out_meta.update({\"driver\": \"GTiff\",\n",
    "                 \"height\": out_image.shape[1],\n",
    "                 \"width\": out_image.shape[2],\n",
    "                 \"transform\": out_transform})\n",
    "    \n",
    "with rio.open('masked.tif', \"w\", **out_meta) as dest:\n",
    "    dest.write(out_image)"
   ]
  },
  {
   "cell_type": "code",
   "execution_count": 351,
   "metadata": {},
   "outputs": [
    {
     "name": "stderr",
     "output_type": "stream",
     "text": [
      "100%|██████████| 20/20 [00:00<00:00, 622.88it/s]\n"
     ]
    }
   ],
   "source": [
    "import os\n",
    "from itertools import product\n",
    "import rasterio as rio\n",
    "from rasterio import windows\n",
    "\n",
    "def get_tiles(ds, width=256, height=256):\n",
    "    nols, nrows = ds.meta['width'], ds.meta['height']\n",
    "    offsets = product(range(0, nols, width), range(0, nrows, height))\n",
    "    big_window = windows.Window(col_off=0, row_off=0, width=nols, height=nrows)\n",
    "    for col_off, row_off in  offsets:\n",
    "        window =windows.Window(col_off=col_off, row_off=row_off, width=width, height=height).intersection(big_window)\n",
    "        transform = windows.transform(window, ds.transform)\n",
    "        yield window, transform\n",
    "\n",
    "\n",
    "with rio.open(os.path.join(in_path, rgb_masked_filename)) as inds:\n",
    "    tile_width, tile_height = 256, 256\n",
    "\n",
    "    meta = inds.meta.copy()\n",
    "    tiles = list(get_tiles(inds))\n",
    "\n",
    "    for window, transform in tqdm(tiles):\n",
    "        meta['transform'] = transform\n",
    "        meta['width'], meta['height'] = window.width, window.height\n",
    "        outpath = os.path.join(out_path,output_filename.format(int(window.col_off), int(window.row_off)))\n",
    "        patch = inds.read(window=window)\n",
    "        if inds.read(window=window).min()>0 and patch.shape==(3,256,256):\n",
    "            with rio.open(outpath, 'w', **meta) as outds:\n",
    "                outds.write(inds.read(window=window))"
   ]
  },
  {
   "cell_type": "code",
   "execution_count": 31,
   "metadata": {},
   "outputs": [],
   "source": [
    "import shutil\n",
    "i=0\n",
    "# Clean folders\n",
    "for dir in os.listdir(\"images\"):\n",
    "    if len(dir)==36:\n",
    "        if not os.listdir(f\"images/{dir}/tiles\"):\n",
    "            i+=1\n",
    "            shutil.rmtree(f\"images/{dir}\")"
   ]
  },
  {
   "cell_type": "code",
   "execution_count": 18,
   "metadata": {},
   "outputs": [
    {
     "ename": "NameError",
     "evalue": "name 'dataframe_sorted' is not defined",
     "output_type": "error",
     "traceback": [
      "\u001b[0;31m---------------------------------------------------------------------------\u001b[0m",
      "\u001b[0;31mNameError\u001b[0m                                 Traceback (most recent call last)",
      "\u001b[1;32m/Users/marcsperzel/Projects/cryovision/cryovision.ipynb Cell 17'\u001b[0m in \u001b[0;36m<cell line: 1>\u001b[0;34m()\u001b[0m\n\u001b[0;32m----> <a href='vscode-notebook-cell:/Users/marcsperzel/Projects/cryovision/cryovision.ipynb#ch0000017?line=0'>1</a>\u001b[0m dataframe_sorted\u001b[39m.\u001b[39mindex\n",
      "\u001b[0;31mNameError\u001b[0m: name 'dataframe_sorted' is not defined"
     ]
    }
   ],
   "source": [
    "dataframe_sorted.index"
   ]
  },
  {
   "cell_type": "code",
   "execution_count": null,
   "metadata": {},
   "outputs": [],
   "source": []
  }
 ],
 "metadata": {
  "interpreter": {
   "hash": "c9450414bf23f3dd29b5b05a150ab805ddf54e50a477ec96525535ab209d16c9"
  },
  "kernelspec": {
   "display_name": "Python 3.9.1 ('main')",
   "language": "python",
   "name": "python3"
  },
  "language_info": {
   "codemirror_mode": {
    "name": "ipython",
    "version": 3
   },
   "file_extension": ".py",
   "mimetype": "text/x-python",
   "name": "python",
   "nbconvert_exporter": "python",
   "pygments_lexer": "ipython3",
   "version": "3.9.11"
  },
  "orig_nbformat": 4
 },
 "nbformat": 4,
 "nbformat_minor": 2
}
