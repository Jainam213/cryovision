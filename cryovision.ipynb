{
 "cells": [
  {
   "cell_type": "code",
   "execution_count": 172,
   "metadata": {},
   "outputs": [],
   "source": [
    "from PIL import Image\n",
    "import numpy as np\n",
    "import matplotlib.pyplot as plt\n",
    "import numpy as np\n",
    "from skimage import filters\n",
    "from sentinelsat import SentinelAPI, read_geojson, geojson_to_wkt, make_path_filter\n",
    "import geopandas as gpd\n",
    "import rasterio as rio\n",
    "import rasterio.mask\n",
    "from rasterio import plot\n",
    "import folium\n",
    "from tqdm import tqdm"
   ]
  },
  {
   "cell_type": "code",
   "execution_count": 20,
   "metadata": {},
   "outputs": [],
   "source": [
    "# Init Sentinel API\n",
    "username = 'cryovision' \n",
    "password = 'baw.YFV8rfa8nva9mfg' \n",
    "api = SentinelAPI(username, password, 'https://scihub.copernicus.eu/dhus')"
   ]
  },
  {
   "cell_type": "code",
   "execution_count": 21,
   "metadata": {},
   "outputs": [],
   "source": [
    "SHAPEFILE = 'pingo_distribution_siberia_ggrosse_bjones/pingo_distribution_siberia_ggrosse_bjones.shp'"
   ]
  },
  {
   "cell_type": "code",
   "execution_count": 133,
   "metadata": {},
   "outputs": [],
   "source": [
    "# Import Shapefile\n",
    "pingo = gpd.read_file(SHAPEFILE)\n",
    "pingo = pingo.to_crs('epsg:4326')\n",
    "pingo.to_file('pingo.geojson', driver='GeoJSON')\n"
   ]
  },
  {
   "cell_type": "code",
   "execution_count": null,
   "metadata": {},
   "outputs": [],
   "source": [
    "pingo_number = 19\n",
    "geojson = read_geojson('pingo.geojson')['features'][pingo_number]\n",
    "footprint = geojson_to_wkt(geojson)"
   ]
  },
  {
   "cell_type": "code",
   "execution_count": 23,
   "metadata": {},
   "outputs": [],
   "source": [
    "# Get Images from api\n",
    "\n",
    "images = api.query(footprint,\n",
    "                        platformname = 'Sentinel-2',\n",
    "                     processinglevel = 'Level-2A',\n",
    "                     cloudcoverpercentage = (0,10),\n",
    "                     limit=100)\n",
    "dataframe = api.to_geodataframe(images)\n",
    "dataframe_sorted = dataframe.sort_values(['ingestiondate','cloudcoverpercentage'], ascending=[False,True])"
   ]
  },
  {
   "cell_type": "code",
   "execution_count": 162,
   "metadata": {},
   "outputs": [],
   "source": [
    "# # Download Image Data set using Id\n",
    "path_filter = make_path_filter(\"*_B0[234]_10m.jp2\")\n",
    "image_id = dataframe_sorted.index[0]\n",
    "date = dataframe_sorted.generationdate[0].strftime('%d_%m_%Y')\n",
    "download_data = api.download(image_id,nodefilter=path_filter)"
   ]
  },
  {
   "cell_type": "code",
   "execution_count": 25,
   "metadata": {},
   "outputs": [],
   "source": [
    "main_path = download_data['node_path'][2:]\n",
    "image_paths = list(download_data['nodes'].keys())[1:]\n",
    "b2 = rio.open(main_path+list(download_data['nodes'].keys())[1:][0][1:])\n",
    "b3 = rio.open(main_path+list(download_data['nodes'].keys())[2:][0][1:])\n",
    "b4 = rio.open(main_path+list(download_data['nodes'].keys())[3:][0][1:])"
   ]
  },
  {
   "cell_type": "code",
   "execution_count": 167,
   "metadata": {},
   "outputs": [],
   "source": [
    "os.mkdir(f'images/{image_id}_{date}')\n",
    "os.mkdir(f'images/{image_id}_{date}/tiles')\n",
    "\n",
    "in_path = f'images/{image_id}_{date}/'\n",
    "rgb_filename = 'rgb.tif'\n",
    "rgb_masked_filename = 'rgb_masked.tif'\n",
    "out_path = f'images/{image_id}_{date}/tiles/'\n",
    "output_filename = 'tile_{}-{}.tif'"
   ]
  },
  {
   "cell_type": "code",
   "execution_count": 168,
   "metadata": {},
   "outputs": [],
   "source": [
    "pingo_proj = pingo.loc[pingo_number:pingo_number].to_crs(b4.crs.data.get('init'))\n",
    "\n",
    "\n",
    "with rio.open(os.path.join(in_path, rgb_filename),'w',driver='GTiff', width=b4.width, height=b4.height, \n",
    "              count=3,crs=b4.crs,transform=b4.transform, dtype=b4.dtypes[0]) as rgb:\n",
    "    rgb.write(b2.read(1),1) \n",
    "    rgb.write(b3.read(1),2) \n",
    "    rgb.write(b4.read(1),3) \n",
    "    rgb.close()\n",
    "\n"
   ]
  },
  {
   "cell_type": "code",
   "execution_count": 169,
   "metadata": {},
   "outputs": [],
   "source": [
    "with rio.open(os.path.join(in_path, rgb_filename)) as src:\n",
    "    out_image, out_transform = rasterio.mask.mask(src, pingo_proj.geometry.buffer(40000.0),crop=True)\n",
    "    out_meta = src.meta.copy()\n",
    "    out_meta.update({\"driver\": \"GTiff\",\n",
    "                 \"height\": out_image.shape[1],\n",
    "                 \"width\": out_image.shape[2],\n",
    "                 \"transform\": out_transform})\n",
    "    \n",
    "with rasterio.open(os.path.join(in_path, rgb_masked_filename), \"w\", **out_meta) as dest:\n",
    "    dest.write(out_image)"
   ]
  },
  {
   "cell_type": "code",
   "execution_count": 179,
   "metadata": {},
   "outputs": [
    {
     "name": "stderr",
     "output_type": "stream",
     "text": [
      "100%|██████████| 483/483 [00:02<00:00, 229.70it/s]\n"
     ]
    }
   ],
   "source": [
    "import os\n",
    "from itertools import product\n",
    "import rasterio as rio\n",
    "from rasterio import windows\n",
    "\n",
    "def get_tiles(ds, width=256, height=256):\n",
    "    nols, nrows = ds.meta['width'], ds.meta['height']\n",
    "    offsets = product(range(0, nols, width), range(0, nrows, height))\n",
    "    big_window = windows.Window(col_off=0, row_off=0, width=nols, height=nrows)\n",
    "    for col_off, row_off in  offsets:\n",
    "        window =windows.Window(col_off=col_off, row_off=row_off, width=width, height=height).intersection(big_window)\n",
    "        transform = windows.transform(window, ds.transform)\n",
    "        yield window, transform\n",
    "\n",
    "\n",
    "with rio.open(os.path.join(in_path, rgb_masked_filename)) as inds:\n",
    "    tile_width, tile_height = 256, 256\n",
    "\n",
    "    meta = inds.meta.copy()\n",
    "    tiles = list(get_tiles(inds))\n",
    "\n",
    "    for window, transform in tqdm(tiles):\n",
    "        meta['transform'] = transform\n",
    "        meta['width'], meta['height'] = window.width, window.height\n",
    "        outpath = os.path.join(out_path,output_filename.format(int(window.col_off), int(window.row_off)))\n",
    "        patch = inds.read(window=window)\n",
    "        if inds.read(window=window).min()>0 and patch.shape==(3,256,256):\n",
    "            with rio.open(outpath, 'w', **meta) as outds:\n",
    "                outds.write(inds.read(window=window))"
   ]
  },
  {
   "cell_type": "code",
   "execution_count": 200,
   "metadata": {},
   "outputs": [
    {
     "data": {
      "text/plain": [
       "<folium.features.GeoJson at 0x7f91611a2fd0>"
      ]
     },
     "execution_count": 200,
     "metadata": {},
     "output_type": "execute_result"
    }
   ],
   "source": [
    "import folium \n",
    "m = folium.Map([pingo.loc[3].LAT, pingo.loc[3].LONG_], zoom_start=6)\n",
    "folium.GeoJson(data=pingo.geometry).add_to(m)"
   ]
  },
  {
   "cell_type": "code",
   "execution_count": null,
   "metadata": {},
   "outputs": [],
   "source": []
  }
 ],
 "metadata": {
  "interpreter": {
   "hash": "c9450414bf23f3dd29b5b05a150ab805ddf54e50a477ec96525535ab209d16c9"
  },
  "kernelspec": {
   "display_name": "Python 3.9.1 ('main')",
   "language": "python",
   "name": "python3"
  },
  "language_info": {
   "codemirror_mode": {
    "name": "ipython",
    "version": 3
   },
   "file_extension": ".py",
   "mimetype": "text/x-python",
   "name": "python",
   "nbconvert_exporter": "python",
   "pygments_lexer": "ipython3",
   "version": "3.9.1"
  },
  "orig_nbformat": 4
 },
 "nbformat": 4,
 "nbformat_minor": 2
}
