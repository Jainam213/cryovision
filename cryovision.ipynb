{
 "cells": [
  {
   "cell_type": "code",
   "execution_count": 340,
   "metadata": {},
   "outputs": [],
   "source": [
    "from sentinelsat import SentinelAPI, read_geojson, geojson_to_wkt, make_path_filter\n",
    "import geopandas as gpd\n",
    "import rasterio as rio\n",
    "import rasterio.mask\n",
    "from tqdm import tqdm"
   ]
  },
  {
   "cell_type": "code",
   "execution_count": 341,
   "metadata": {},
   "outputs": [],
   "source": [
    "# Init Sentinel API\n",
    "username = 'cryovision' \n",
    "password = 'baw.YFV8rfa8nva9mfg' \n",
    "api = SentinelAPI(username, password, 'https://scihub.copernicus.eu/dhus')\n",
    "# switch to apihub once active"
   ]
  },
  {
   "cell_type": "code",
   "execution_count": 342,
   "metadata": {},
   "outputs": [],
   "source": [
    "SHAPEFILE = 'pingo_distribution_siberia_ggrosse_bjones/pingo_distribution_siberia_ggrosse_bjones.shp'"
   ]
  },
  {
   "cell_type": "code",
   "execution_count": 343,
   "metadata": {},
   "outputs": [],
   "source": [
    "# Import Shapefile\n",
    "pingo = gpd.read_file(SHAPEFILE)\n",
    "pingo = pingo.to_crs('epsg:4326')\n",
    "pingo.to_file('pingo.geojson', driver='GeoJSON')\n"
   ]
  },
  {
   "cell_type": "code",
   "execution_count": 361,
   "metadata": {},
   "outputs": [],
   "source": [
    "pingo_number = 5\n",
    "geojson = read_geojson('pingo.geojson')\n",
    "footprint = geojson_to_wkt(geojson['features'][pingo_number])"
   ]
  },
  {
   "cell_type": "code",
   "execution_count": 362,
   "metadata": {},
   "outputs": [],
   "source": [
    "# Get Images from api\n",
    "\n",
    "images = api.query(footprint, \n",
    "                    date=(\"20200101\",\"20230101\"),\n",
    "                    platformname = 'Sentinel-2',\n",
    "                    processinglevel = 'Level-2A',\n",
    "                    cloudcoverpercentage = (0,10))\n",
    "dataframe = api.to_geodataframe(images)\n",
    "dataframe_sorted = dataframe.sort_values(['ingestiondate','cloudcoverpercentage'], ascending=[False,True])"
   ]
  },
  {
   "cell_type": "code",
   "execution_count": 371,
   "metadata": {},
   "outputs": [
    {
     "name": "stderr",
     "output_type": "stream",
     "text": [
      "Downloading T41WMS_20220304T073821_B08_10m.jp2: 100%|██████████| 97.5M/97.5M [00:57<00:00, 1.71MB/s]\n",
      "                                                                          \r"
     ]
    }
   ],
   "source": [
    "# # Download Image Data set using Id\n",
    "path_filter = make_path_filter(\"*_B0[8]_10m.jp2\")\n",
    "image_id = dataframe_sorted.index[0]\n",
    "download_data = api.download(image_id,nodefilter=path_filter, directory_path=\"sentinel_data\")"
   ]
  },
  {
   "cell_type": "code",
   "execution_count": 366,
   "metadata": {},
   "outputs": [
    {
     "ename": "IndexError",
     "evalue": "list index out of range",
     "output_type": "error",
     "traceback": [
      "\u001b[0;31m---------------------------------------------------------------------------\u001b[0m",
      "\u001b[0;31mIndexError\u001b[0m                                Traceback (most recent call last)",
      "\u001b[0;32m<ipython-input-366-6a0772fed982>\u001b[0m in \u001b[0;36m<module>\u001b[0;34m\u001b[0m\n\u001b[1;32m     11\u001b[0m             )\n\u001b[1;32m     12\u001b[0m b8 = rio.open(\n\u001b[0;32m---> 13\u001b[0;31m                 \u001b[0mos\u001b[0m\u001b[0;34m.\u001b[0m\u001b[0mpath\u001b[0m\u001b[0;34m.\u001b[0m\u001b[0mjoin\u001b[0m\u001b[0;34m(\u001b[0m\u001b[0;34m'sentinel_data'\u001b[0m\u001b[0;34m,\u001b[0m \u001b[0mmain_path\u001b[0m \u001b[0;34m+\u001b[0m \u001b[0mimage_paths\u001b[0m\u001b[0;34m[\u001b[0m\u001b[0;36m4\u001b[0m\u001b[0;34m:\u001b[0m\u001b[0;34m]\u001b[0m\u001b[0;34m[\u001b[0m\u001b[0;36m0\u001b[0m\u001b[0;34m]\u001b[0m\u001b[0;34m[\u001b[0m\u001b[0;36m1\u001b[0m\u001b[0;34m:\u001b[0m\u001b[0;34m]\u001b[0m\u001b[0;34m,\u001b[0m\u001b[0;34m)\u001b[0m\u001b[0;34m\u001b[0m\u001b[0;34m\u001b[0m\u001b[0m\n\u001b[0m\u001b[1;32m     14\u001b[0m             )\n",
      "\u001b[0;31mIndexError\u001b[0m: list index out of range"
     ]
    }
   ],
   "source": [
    "main_path = download_data['node_path'][2:]\n",
    "image_paths = list(download_data['nodes'].keys())\n",
    "b2 = rio.open(\n",
    "                os.path.join('sentinel_data', main_path + image_paths[1:][0][1:],)\n",
    "            )\n",
    "b3 = rio.open(\n",
    "                os.path.join('sentinel_data', main_path + image_paths[2:][0][1:],)\n",
    "            )\n",
    "b4 = rio.open(\n",
    "                os.path.join('sentinel_data', main_path + image_paths[3:][0][1:],)\n",
    "            )\n",
    "b8 = rio.open(\n",
    "                os.path.join('sentinel_data', main_path + image_paths[4:][0][1:],)\n",
    "            )"
   ]
  },
  {
   "cell_type": "code",
   "execution_count": 348,
   "metadata": {},
   "outputs": [],
   "source": [
    "os.mkdir(f'images/{image_id}')\n",
    "os.mkdir(f'images/{image_id}/tiles')\n",
    "\n",
    "in_path = f'images/{image_id}/'\n",
    "rgb_filename = 'rgb.tif'\n",
    "rgb_masked_filename = 'rgb_masked.tif'\n",
    "out_path = f'images/{image_id}/tiles/'\n",
    "output_filename = 'tile_{}-{}.tif'"
   ]
  },
  {
   "cell_type": "code",
   "execution_count": 349,
   "metadata": {},
   "outputs": [],
   "source": [
    "pingo_proj = pingo.loc[pingo_number:pingo_number].to_crs(b4.crs.data.get('init'))\n",
    "\n",
    "\n",
    "with rio.open(os.path.join(in_path, rgb_filename),'w',driver='GTiff', width=b4.width, height=b4.height, \n",
    "              count=3,crs=b4.crs,transform=b4.transform, dtype=b4.dtypes[0]) as rgb:\n",
    "    \n",
    "    rgb.write(b2.read(1),1) \n",
    "    rgb.write(b3.read(1),2) \n",
    "    rgb.write(b4.read(1),3) \n",
    "    rgb.close()\n",
    "\n"
   ]
  },
  {
   "cell_type": "code",
   "execution_count": 382,
   "metadata": {},
   "outputs": [
    {
     "name": "stdout",
     "output_type": "stream",
     "text": [
      "{'driver': 'GTiff', 'dtype': 'uint16', 'nodata': None, 'width': 1830, 'height': 1830, 'count': 1, 'crs': CRS.from_epsg(32641), 'transform': Affine(60.0, 0.0, 399960.0,\n",
      "       0.0, -60.0, 7700040.0)}\n"
     ]
    }
   ],
   "source": [
    "with rio.open('test.tif','w',driver='GTiff', width=b4.width, height=b4.height, \n",
    "              count=1,crs=b4.crs,transform=b4.transform, dtype=b4.dtypes[0]) as rgb:\n",
    "    greyscale = (b2.read(1) + b3.read(1) + b4.read(1)) / 3\n",
    "    rgb.write(greyscale,1) \n",
    "    print(rgb.meta)"
   ]
  },
  {
   "cell_type": "code",
   "execution_count": 350,
   "metadata": {},
   "outputs": [],
   "source": [
    "with rio.open(os.path.join(in_path, rgb_filename)) as src:\n",
    "    out_image, out_transform = rasterio.mask.mask(src, pingo_proj.geometry.buffer(40000.0),crop=True)\n",
    "    out_meta = src.meta.copy()\n",
    "    out_meta.update({\"driver\": \"GTiff\",\n",
    "                 \"height\": out_image.shape[1],\n",
    "                 \"width\": out_image.shape[2],\n",
    "                 \"transform\": out_transform})\n",
    "    \n",
    "with rio.open(os.path.join(in_path, rgb_masked_filename), \"w\", **out_meta) as dest:\n",
    "    dest.write(out_image)"
   ]
  },
  {
   "cell_type": "code",
   "execution_count": 351,
   "metadata": {},
   "outputs": [
    {
     "name": "stderr",
     "output_type": "stream",
     "text": [
      "100%|██████████| 20/20 [00:00<00:00, 622.88it/s]\n"
     ]
    }
   ],
   "source": [
    "import os\n",
    "from itertools import product\n",
    "import rasterio as rio\n",
    "from rasterio import windows\n",
    "\n",
    "def get_tiles(ds, width=256, height=256):\n",
    "    nols, nrows = ds.meta['width'], ds.meta['height']\n",
    "    offsets = product(range(0, nols, width), range(0, nrows, height))\n",
    "    big_window = windows.Window(col_off=0, row_off=0, width=nols, height=nrows)\n",
    "    for col_off, row_off in  offsets:\n",
    "        window =windows.Window(col_off=col_off, row_off=row_off, width=width, height=height).intersection(big_window)\n",
    "        transform = windows.transform(window, ds.transform)\n",
    "        yield window, transform\n",
    "\n",
    "\n",
    "with rio.open(os.path.join(in_path, rgb_masked_filename)) as inds:\n",
    "    tile_width, tile_height = 256, 256\n",
    "\n",
    "    meta = inds.meta.copy()\n",
    "    tiles = list(get_tiles(inds))\n",
    "\n",
    "    for window, transform in tqdm(tiles):\n",
    "        meta['transform'] = transform\n",
    "        meta['width'], meta['height'] = window.width, window.height\n",
    "        outpath = os.path.join(out_path,output_filename.format(int(window.col_off), int(window.row_off)))\n",
    "        patch = inds.read(window=window)\n",
    "        if inds.read(window=window).min()>0 and patch.shape==(3,256,256):\n",
    "            with rio.open(outpath, 'w', **meta) as outds:\n",
    "                outds.write(inds.read(window=window))"
   ]
  },
  {
   "cell_type": "code",
   "execution_count": 353,
   "metadata": {},
   "outputs": [],
   "source": [
    "tile = rio.open('/Users/marcsperzel/Documents/cryovision/images/a1a4b0ed-1eb0-42c1-a7c4-f9b8fa6e387a/tiles/tile_0-1536.tif')"
   ]
  },
  {
   "cell_type": "code",
   "execution_count": null,
   "metadata": {},
   "outputs": [],
   "source": []
  }
 ],
 "metadata": {
  "interpreter": {
   "hash": "c9450414bf23f3dd29b5b05a150ab805ddf54e50a477ec96525535ab209d16c9"
  },
  "kernelspec": {
   "display_name": "Python 3.9.1 ('main')",
   "language": "python",
   "name": "python3"
  },
  "language_info": {
   "codemirror_mode": {
    "name": "ipython",
    "version": 3
   },
   "file_extension": ".py",
   "mimetype": "text/x-python",
   "name": "python",
   "nbconvert_exporter": "python",
   "pygments_lexer": "ipython3",
   "version": "3.9.1"
  },
  "orig_nbformat": 4
 },
 "nbformat": 4,
 "nbformat_minor": 2
}
