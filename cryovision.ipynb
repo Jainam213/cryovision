{
 "cells": [
  {
   "cell_type": "code",
   "execution_count": 37,
   "metadata": {},
   "outputs": [],
   "source": [
    "from PIL import Image\n",
    "import numpy as np\n",
    "import matplotlib.pyplot as plt\n",
    "import numpy as np\n",
    "from skimage import filters\n",
    "from sentinelsat import SentinelAPI, read_geojson, geojson_to_wkt\n",
    "import geopandas as gpd\n",
    "import rasterio as rio"
   ]
  },
  {
   "cell_type": "code",
   "execution_count": 105,
   "metadata": {},
   "outputs": [],
   "source": [
    "# Init Sentinel API\n",
    "\n",
    "username = 'cryovision' \n",
    "password = 'baw.YFV8rfa8nva9mfg' \n",
    "api = SentinelAPI(username, password, 'https://scihub.copernicus.eu/dhus')"
   ]
  },
  {
   "cell_type": "code",
   "execution_count": 106,
   "metadata": {},
   "outputs": [],
   "source": [
    "# Import Shapefile\n",
    "\n",
    "cutoff = 2\n",
    "pingo = gpd.read_file('pingo_distribution_siberia_ggrosse_bjones/pingo_distribution_siberia_ggrosse_bjones.shp')\n",
    "pingo = pingo.to_crs('epsg:4326')\n",
    "pingo = pingo.iloc[0:cutoff]\n",
    "pingo.to_file('pingo.geojson', driver='GeoJSON')\n",
    "footprint = geojson_to_wkt(read_geojson('pingo.geojson'))"
   ]
  },
  {
   "cell_type": "code",
   "execution_count": 78,
   "metadata": {},
   "outputs": [],
   "source": [
    "# Get Images from api\n",
    "\n",
    "images = api.query(footprint,\n",
    "                        platformname = 'Sentinel-2',\n",
    "                     processinglevel = 'Level-2A',\n",
    "                     cloudcoverpercentage = (0,10),\n",
    "                     limit=10)\n",
    "dataframe = api.to_geodataframe(images)"
   ]
  },
  {
   "cell_type": "code",
   "execution_count": null,
   "metadata": {},
   "outputs": [],
   "source": [
    "# # Download Image Data set using Id\n",
    "# api.download(\"5ebfe45d-bec0-4655-80fd-6aef1b5f24d4\")"
   ]
  },
  {
   "cell_type": "code",
   "execution_count": 35,
   "metadata": {},
   "outputs": [],
   "source": [
    "R10 = 'S2A_MSIL2A_20220330T025551_N0400_R032_T52WEV_20220330T054426.SAFE/GRANULE/L2A_T52WEV_A035350_20220330T025547/IMG_DATA/R10m'\n",
    "b4 = rio.open(R10+'/T52WEV_20220330T025551_B04_10m.jp2')\n",
    "b3 = rio.open(R10+'/T52WEV_20220330T025551_B03_10m.jp2')\n",
    "b2 = rio.open(R10+'/T52WEV_20220330T025551_B02_10m.jp2')"
   ]
  },
  {
   "cell_type": "code",
   "execution_count": 45,
   "metadata": {},
   "outputs": [],
   "source": [
    "with rio.open('RGB.tiff','w',driver='Gtiff', width=b4.width, height=b4.height, \n",
    "              count=3,crs=b4.crs,transform=b4.transform, dtype=b4.dtypes[0]) as rgb:\n",
    "    rgb.write(b2.read(1),1) \n",
    "    rgb.write(b3.read(1),2) \n",
    "    rgb.write(b4.read(1),3) \n",
    "    rgb.close()"
   ]
  },
  {
   "cell_type": "code",
   "execution_count": null,
   "metadata": {},
   "outputs": [],
   "source": []
  }
 ],
 "metadata": {
  "interpreter": {
   "hash": "c9450414bf23f3dd29b5b05a150ab805ddf54e50a477ec96525535ab209d16c9"
  },
  "kernelspec": {
   "display_name": "Python 3.9.1 ('main')",
   "language": "python",
   "name": "python3"
  },
  "language_info": {
   "codemirror_mode": {
    "name": "ipython",
    "version": 3
   },
   "file_extension": ".py",
   "mimetype": "text/x-python",
   "name": "python",
   "nbconvert_exporter": "python",
   "pygments_lexer": "ipython3",
   "version": "3.9.1"
  },
  "orig_nbformat": 4
 },
 "nbformat": 4,
 "nbformat_minor": 2
}
